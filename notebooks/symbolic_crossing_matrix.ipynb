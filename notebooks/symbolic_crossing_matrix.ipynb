{
 "cells": [
  {
   "cell_type": "code",
   "execution_count": 4,
   "id": "da769962",
   "metadata": {},
   "outputs": [],
   "source": [
    "# crossing matrix X--> 3pi\n",
    "import cmath\n",
    "from sympy.physics.quantum.spin import Rotation"
   ]
  },
  {
   "cell_type": "code",
   "execution_count": 52,
   "id": "3fc1c0a2",
   "metadata": {},
   "outputs": [],
   "source": [
    "from sympy import *"
   ]
  },
  {
   "cell_type": "code",
   "execution_count": 151,
   "id": "f68df714",
   "metadata": {},
   "outputs": [],
   "source": [
    "mX, m1, m2, m3 = symbols('m_X m_1 m_2 m_3')\n",
    "s, t = symbols('s t')"
   ]
  },
  {
   "cell_type": "code",
   "execution_count": 149,
   "id": "90f9b05a",
   "metadata": {},
   "outputs": [],
   "source": [
    "lamXs, lams, lamXt, lamt = symbols('lambda_X^s lambda^s lambda_X^t lambda^t')"
   ]
  },
  {
   "cell_type": "code",
   "execution_count": 153,
   "id": "c4ed9280",
   "metadata": {},
   "outputs": [
    {
     "data": {
      "text/plain": [
       "[m_X*n/sqrt(lambda_X^s*lambda_X^t),\n",
       " 2*m_X*sqrt(phi)/sqrt(lambda_X^s*lambda_X^t)]"
      ]
     },
     "execution_count": 153,
     "metadata": {},
     "output_type": "execute_result"
    }
   ],
   "source": [
    "# crossing angle\n",
    "omega = symbols('omega')\n",
    "n, phi = symbols('n phi')\n",
    "# \n",
    "cosω = n*mX/sqrt(lamXt*lamXs)\n",
    "sinω = 2*sqrt(phi)*mX/sqrt(lamXt*lamXs)\n",
    "# \n",
    "[cosω, sinω]"
   ]
  },
  {
   "cell_type": "code",
   "execution_count": 154,
   "id": "a1fcd8ef",
   "metadata": {},
   "outputs": [],
   "source": [
    "def K(lam, Yj, lamX) :\n",
    "    return (2 * sqrt(phi) ) ** lam * sqrt(lamX) ** Yj\n",
    "# \n",
    "def Ks(lam, Yj) :\n",
    "    return K(lam, Yj, lamXs)\n",
    "# \n",
    "def Kt(lam, Yj) :\n",
    "    return K(lam, Yj, lamXt)"
   ]
  },
  {
   "cell_type": "code",
   "execution_count": 155,
   "id": "0c5bf879",
   "metadata": {},
   "outputs": [],
   "source": [
    "def paritywignerd(J,lam,lamp,fac) :\n",
    "    wd1 = Rotation.d(J, lam,lamp, omega).doit()\n",
    "    wd2 = Rotation.d(J, lam, -lamp, omega).doit()\n",
    "    return wd1 + fac * (-1) ** lamp * wd2"
   ]
  },
  {
   "cell_type": "code",
   "execution_count": 158,
   "id": "94d5fb79",
   "metadata": {},
   "outputs": [],
   "source": [
    "def cros_element(J, l1, l2, YX, fac) :\n",
    "    prefac = Kt(l2, -YX) / Ks(l2, -YX)\n",
    "    wd = paritywignerd(J, l1, l2, fac)\n",
    "    return prefac * wd"
   ]
  },
  {
   "cell_type": "code",
   "execution_count": 159,
   "id": "4a54ef3a",
   "metadata": {},
   "outputs": [],
   "source": [
    "def cros_mat(J, etaX) :\n",
    "    YX = JX - (1 + etaX) / 2\n",
    "    Yj1, Yj2 = abs(j1 - YX) - j1, abs(j2 - YX) - j2\n",
    "    etas = etapi ** 3 * etaX\n",
    "    m = [[cros_element(JX, l1, l2, YX, etas) for l1 in range(2)] for l2 in range(2)]\n",
    "    return m"
   ]
  },
  {
   "cell_type": "code",
   "execution_count": 160,
   "id": "3617f5e0",
   "metadata": {},
   "outputs": [
    {
     "data": {
      "text/plain": [
       "[[2*lambda_X^s**0.5*cos(omega)/lambda_X^t**0.5,\n",
       "  -sqrt(2)*lambda_X^s**0.5*sin(omega)/lambda_X^t**0.5],\n",
       " [sqrt(2)*lambda_X^s**0.5*sin(omega)/lambda_X^t**0.5,\n",
       "  lambda_X^s**0.5*cos(omega)/lambda_X^t**0.5]]"
      ]
     },
     "execution_count": 160,
     "metadata": {},
     "output_type": "execute_result"
    }
   ],
   "source": [
    "cros_mat(1, -1)"
   ]
  },
  {
   "cell_type": "code",
   "execution_count": null,
   "id": "7afcb2b8",
   "metadata": {},
   "outputs": [],
   "source": []
  }
 ],
 "metadata": {
  "kernelspec": {
   "display_name": "Python 3 (ipykernel)",
   "language": "python",
   "name": "python3"
  },
  "language_info": {
   "codemirror_mode": {
    "name": "ipython",
    "version": 3
   },
   "file_extension": ".py",
   "mimetype": "text/x-python",
   "name": "python",
   "nbconvert_exporter": "python",
   "pygments_lexer": "ipython3",
   "version": "3.9.5"
  }
 },
 "nbformat": 4,
 "nbformat_minor": 5
}
